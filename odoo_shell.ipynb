{
 "cells": [
  {
   "cell_type": "code",
   "execution_count": 1,
   "metadata": {
    "collapsed": false
   },
   "outputs": [
    {
     "data": {
      "text/plain": [
       "['',\n",
       " 'C:\\\\Python27\\\\Lib',\n",
       " 'C:\\\\WINDOWS\\\\SYSTEM32\\\\python27.zip',\n",
       " 'c:\\\\python27\\\\DLLs',\n",
       " 'c:\\\\python27\\\\lib\\\\plat-win',\n",
       " 'c:\\\\python27\\\\lib\\\\lib-tk',\n",
       " 'c:\\\\python27',\n",
       " 'c:\\\\python27\\\\lib\\\\site-packages',\n",
       " 'c:\\\\python27\\\\lib\\\\site-packages\\\\win32',\n",
       " 'c:\\\\python27\\\\lib\\\\site-packages\\\\win32\\\\lib',\n",
       " 'c:\\\\python27\\\\lib\\\\site-packages\\\\Pythonwin',\n",
       " 'c:\\\\python27\\\\lib\\\\site-packages\\\\IPython\\\\extensions',\n",
       " 'C:\\\\Users\\\\w541\\\\.ipython',\n",
       " 'e:\\\\_odoo\\\\odoo']"
      ]
     },
     "execution_count": 1,
     "metadata": {},
     "output_type": "execute_result"
    }
   ],
   "source": [
    "import sys\n",
    "sys.path.append(\"e:\\_odoo\\odoo\")\n",
    "sys.argv = ['','shell','-c','t.conf','--shell-interface', 'ipython'  ]\n",
    "sys.path"
   ]
  },
  {
   "cell_type": "code",
   "execution_count": 2,
   "metadata": {
    "collapsed": false
   },
   "outputs": [
    {
     "name": "stderr",
     "output_type": "stream",
     "text": [
      "2016-10-03 00:10:11,069 13608 INFO ? odoo: Odoo version 10.0rc1c\n",
      "2016-10-03 00:10:11,075 13608 INFO ? odoo: Using configuration file at E:\\odoo_shell_jupyter\\t.conf\n",
      "2016-10-03 00:10:11,078 13608 INFO ? odoo: addons paths: [u'C:\\\\Users\\\\w541\\\\AppData\\\\Local\\\\OpenERP S.A.\\\\Odoo\\\\addons\\\\10.0', u'e:\\\\_odoo\\\\odoo\\\\odoo\\\\addons', u'e:\\\\_odoo\\\\odoo\\\\addons', u'E:\\\\odoo_shell_jupyter\\\\odoo\\\\addons', u'E:\\\\odoo_shell_jupyter\\\\addons']\n",
      "2016-10-03 00:10:11,084 13608 INFO ? odoo: database: odoo9@default:default\n",
      "2016-10-03 00:10:11,168 13608 INFO ? odoo.service.server: Initiating shutdown\n",
      "2016-10-03 00:10:11,171 13608 INFO ? odoo.service.server: Hit CTRL-C again or send a second signal to force the shutdown.\n",
      "2016-10-03 00:10:11,418 13608 INFO odoo10 odoo.modules.loading: loading 1 modules...\n",
      "2016-10-03 00:10:12,062 13608 INFO odoo10 odoo.modules.loading: 1 modules loaded in 0.64s, 0 queries\n",
      "2016-10-03 00:10:12,299 13608 INFO odoo10 odoo.modules.loading: loading 25 modules...\n",
      "2016-10-03 00:10:12,476 13608 INFO ? odoo.addons.bus.models.bus: Bus.loop listen imbus on db postgres\n",
      "2016-10-03 00:10:13,398 13608 INFO odoo10 odoo.addons.report.models.report: Will use the Wkhtmltopdf binary at C:\\Program Files\\wkhtmltopdf\\bin\\wkhtmltopdf.exe\n",
      "2016-10-03 00:10:13,778 13608 INFO odoo10 odoo.modules.loading: 25 modules loaded in 1.48s, 0 queries\n",
      "2016-10-03 00:10:14,897 13608 INFO odoo10 odoo.modules.loading: Modules loaded.\n"
     ]
    }
   ],
   "source": [
    "import odoo\n",
    "odoo.cli.main()"
   ]
  },
  {
   "cell_type": "code",
   "execution_count": 4,
   "metadata": {
    "collapsed": false
   },
   "outputs": [],
   "source": [
    "dbname='odoo10'\n",
    "with odoo.api.Environment.manage():\n",
    "    if dbname:\n",
    "        registry = odoo.registry(dbname)\n",
    "        with registry.cursor() as cr:\n",
    "            uid = odoo.SUPERUSER_ID\n",
    "            ctx = odoo.api.Environment(cr, uid, {})['res.users'].context_get()\n",
    "            env = odoo.api.Environment(cr, uid, ctx)"
   ]
  },
  {
   "cell_type": "code",
   "execution_count": 5,
   "metadata": {
    "collapsed": false
   },
   "outputs": [
    {
     "data": {
      "text/plain": [
       "{'lang': u'zh_CN', 'tz': u'Europe/Brussels'}"
      ]
     },
     "execution_count": 5,
     "metadata": {},
     "output_type": "execute_result"
    }
   ],
   "source": [
    "ctx"
   ]
  },
  {
   "cell_type": "code",
   "execution_count": 6,
   "metadata": {
    "collapsed": false
   },
   "outputs": [
    {
     "data": {
      "text/plain": [
       "<odoo.api.Environment at 0x7efce50>"
      ]
     },
     "execution_count": 6,
     "metadata": {},
     "output_type": "execute_result"
    }
   ],
   "source": [
    "env"
   ]
  },
  {
   "cell_type": "code",
   "execution_count": 7,
   "metadata": {
    "collapsed": false
   },
   "outputs": [
    {
     "data": {
      "text/plain": [
       "res.users()"
      ]
     },
     "execution_count": 7,
     "metadata": {},
     "output_type": "execute_result"
    }
   ],
   "source": [
    "env['res.users']"
   ]
  },
  {
   "cell_type": "code",
   "execution_count": 8,
   "metadata": {
    "collapsed": false
   },
   "outputs": [
    {
     "data": {
      "text/plain": [
       "odoo.api.res.users"
      ]
     },
     "execution_count": 8,
     "metadata": {},
     "output_type": "execute_result"
    }
   ],
   "source": [
    "type(env['res.users'])"
   ]
  },
  {
   "cell_type": "code",
   "execution_count": 9,
   "metadata": {
    "collapsed": false
   },
   "outputs": [
    {
     "data": {
      "text/plain": [
       "odoo.api.res.users"
      ]
     },
     "execution_count": 9,
     "metadata": {},
     "output_type": "execute_result"
    }
   ],
   "source": [
    "env.registry.models.get('res.users')"
   ]
  },
  {
   "cell_type": "code",
   "execution_count": 10,
   "metadata": {
    "collapsed": false
   },
   "outputs": [
    {
     "data": {
      "text/plain": [
       "odoo.api.res.users"
      ]
     },
     "execution_count": 10,
     "metadata": {},
     "output_type": "execute_result"
    }
   ],
   "source": [
    "env.registry['res.users']"
   ]
  },
  {
   "cell_type": "code",
   "execution_count": 11,
   "metadata": {
    "collapsed": false
   },
   "outputs": [
    {
     "data": {
      "text/plain": [
       "(odoo.addons.auth_signup.models.res_users.ResUsers,\n",
       " odoo.addons.mail.models.res_users.Users,\n",
       " odoo.addons.web_settings_dashboard.models.res_users.ResUsers,\n",
       " odoo.addons.bus.models.res_users.ResUsers,\n",
       " odoo.addons.auth_crypt.models.res_users.ResUsers,\n",
       " odoo.addons.base.res.res_users.UsersView,\n",
       " odoo.addons.base.res.res_users.UsersImplied,\n",
       " odoo.addons.base.res.res_users.Users,\n",
       " odoo.api.base)"
      ]
     },
     "execution_count": 11,
     "metadata": {},
     "output_type": "execute_result"
    }
   ],
   "source": [
    "env.registry['res.users'].__bases__"
   ]
  },
  {
   "cell_type": "code",
   "execution_count": 12,
   "metadata": {
    "collapsed": false
   },
   "outputs": [
    {
     "ename": "AttributeError",
     "evalue": "environments",
     "output_type": "error",
     "traceback": [
      "\u001b[0;31m---------------------------------------------------------------------------\u001b[0m",
      "\u001b[0;31mAttributeError\u001b[0m                            Traceback (most recent call last)",
      "\u001b[0;32m<ipython-input-12-d8216272e487>\u001b[0m in \u001b[0;36m<module>\u001b[0;34m()\u001b[0m\n\u001b[0;32m----> 1\u001b[0;31m \u001b[0muser1\u001b[0m\u001b[1;33m=\u001b[0m \u001b[0menv\u001b[0m\u001b[1;33m[\u001b[0m\u001b[1;34m'res.users'\u001b[0m\u001b[1;33m]\u001b[0m\u001b[1;33m.\u001b[0m\u001b[0msearch\u001b[0m\u001b[1;33m(\u001b[0m  \u001b[1;33m[\u001b[0m\u001b[1;33m]\u001b[0m \u001b[1;33m)\u001b[0m\u001b[1;33m\u001b[0m\u001b[0m\n\u001b[0m",
      "\u001b[0;32me:\\_odoo\\odoo\\odoo\\models.pyc\u001b[0m in \u001b[0;36msearch\u001b[0;34m(self, args, offset, limit, order, count)\u001b[0m\n\u001b[1;32m   1495\u001b[0m         \u001b[1;33m:\u001b[0m\u001b[1;32mraise\u001b[0m \u001b[0mAccessError\u001b[0m\u001b[1;33m:\u001b[0m \u001b[1;33m*\u001b[0m \u001b[1;32mif\u001b[0m \u001b[0muser\u001b[0m \u001b[0mtries\u001b[0m \u001b[0mto\u001b[0m \u001b[0mbypass\u001b[0m \u001b[0maccess\u001b[0m \u001b[0mrules\u001b[0m \u001b[1;32mfor\u001b[0m \u001b[0mread\u001b[0m \u001b[0mon\u001b[0m \u001b[0mthe\u001b[0m \u001b[0mrequested\u001b[0m \u001b[0mobject\u001b[0m\u001b[1;33m.\u001b[0m\u001b[1;33m\u001b[0m\u001b[0m\n\u001b[1;32m   1496\u001b[0m         \"\"\"\n\u001b[0;32m-> 1497\u001b[0;31m         \u001b[0mres\u001b[0m \u001b[1;33m=\u001b[0m \u001b[0mself\u001b[0m\u001b[1;33m.\u001b[0m\u001b[0m_search\u001b[0m\u001b[1;33m(\u001b[0m\u001b[0margs\u001b[0m\u001b[1;33m,\u001b[0m \u001b[0moffset\u001b[0m\u001b[1;33m=\u001b[0m\u001b[0moffset\u001b[0m\u001b[1;33m,\u001b[0m \u001b[0mlimit\u001b[0m\u001b[1;33m=\u001b[0m\u001b[0mlimit\u001b[0m\u001b[1;33m,\u001b[0m \u001b[0morder\u001b[0m\u001b[1;33m=\u001b[0m\u001b[0morder\u001b[0m\u001b[1;33m,\u001b[0m \u001b[0mcount\u001b[0m\u001b[1;33m=\u001b[0m\u001b[0mcount\u001b[0m\u001b[1;33m)\u001b[0m\u001b[1;33m\u001b[0m\u001b[0m\n\u001b[0m\u001b[1;32m   1498\u001b[0m         \u001b[1;32mreturn\u001b[0m \u001b[0mres\u001b[0m \u001b[1;32mif\u001b[0m \u001b[0mcount\u001b[0m \u001b[1;32melse\u001b[0m \u001b[0mself\u001b[0m\u001b[1;33m.\u001b[0m\u001b[0mbrowse\u001b[0m\u001b[1;33m(\u001b[0m\u001b[0mres\u001b[0m\u001b[1;33m)\u001b[0m\u001b[1;33m\u001b[0m\u001b[0m\n\u001b[1;32m   1499\u001b[0m \u001b[1;33m\u001b[0m\u001b[0m\n",
      "\u001b[0;32me:\\_odoo\\odoo\\odoo\\addons\\base\\res\\res_users.pyc\u001b[0m in \u001b[0;36m_search\u001b[0;34m(self, args, offset, limit, order, count, access_rights_uid)\u001b[0m\n\u001b[1;32m    324\u001b[0m                 \u001b[1;32mraise\u001b[0m \u001b[0mAccessError\u001b[0m\u001b[1;33m(\u001b[0m\u001b[0m_\u001b[0m\u001b[1;33m(\u001b[0m\u001b[1;34m'Invalid search criterion'\u001b[0m\u001b[1;33m)\u001b[0m\u001b[1;33m)\u001b[0m\u001b[1;33m\u001b[0m\u001b[0m\n\u001b[1;32m    325\u001b[0m         return super(Users, self)._search(args, offset=offset, limit=limit, order=order, count=count,\n\u001b[0;32m--> 326\u001b[0;31m                                           access_rights_uid=access_rights_uid)\n\u001b[0m\u001b[1;32m    327\u001b[0m \u001b[1;33m\u001b[0m\u001b[0m\n\u001b[1;32m    328\u001b[0m     \u001b[1;33m@\u001b[0m\u001b[0mapi\u001b[0m\u001b[1;33m.\u001b[0m\u001b[0mmodel\u001b[0m\u001b[1;33m\u001b[0m\u001b[0m\n",
      "\u001b[0;32me:\\_odoo\\odoo\\odoo\\models.pyc\u001b[0m in \u001b[0;36m_search\u001b[0;34m(self, args, offset, limit, order, count, access_rights_uid)\u001b[0m\n\u001b[1;32m   4177\u001b[0m         \u001b[1;33m:\u001b[0m\u001b[1;32mreturn\u001b[0m\u001b[1;33m:\u001b[0m \u001b[0ma\u001b[0m \u001b[0mlist\u001b[0m \u001b[0mof\u001b[0m \u001b[0mrecord\u001b[0m \u001b[0mids\u001b[0m \u001b[1;32mor\u001b[0m \u001b[0man\u001b[0m \u001b[0minteger\u001b[0m \u001b[1;33m(\u001b[0m\u001b[1;32mif\u001b[0m \u001b[0mcount\u001b[0m \u001b[1;32mis\u001b[0m \u001b[0mTrue\u001b[0m\u001b[1;33m)\u001b[0m\u001b[1;33m\u001b[0m\u001b[0m\n\u001b[1;32m   4178\u001b[0m         \"\"\"\n\u001b[0;32m-> 4179\u001b[0;31m         \u001b[0mself\u001b[0m\u001b[1;33m.\u001b[0m\u001b[0msudo\u001b[0m\u001b[1;33m(\u001b[0m\u001b[0maccess_rights_uid\u001b[0m \u001b[1;32mor\u001b[0m \u001b[0mself\u001b[0m\u001b[1;33m.\u001b[0m\u001b[0m_uid\u001b[0m\u001b[1;33m)\u001b[0m\u001b[1;33m.\u001b[0m\u001b[0mcheck_access_rights\u001b[0m\u001b[1;33m(\u001b[0m\u001b[1;34m'read'\u001b[0m\u001b[1;33m)\u001b[0m\u001b[1;33m\u001b[0m\u001b[0m\n\u001b[0m\u001b[1;32m   4180\u001b[0m \u001b[1;33m\u001b[0m\u001b[0m\n\u001b[1;32m   4181\u001b[0m         \u001b[1;31m# For transient models, restrict access to the current user, except for the super-user\u001b[0m\u001b[1;33m\u001b[0m\u001b[1;33m\u001b[0m\u001b[0m\n",
      "\u001b[0;32me:\\_odoo\\odoo\\odoo\\models.pyc\u001b[0m in \u001b[0;36msudo\u001b[0;34m(self, user)\u001b[0m\n\u001b[1;32m   4826\u001b[0m \u001b[1;33m\u001b[0m\u001b[0m\n\u001b[1;32m   4827\u001b[0m         \"\"\"\n\u001b[0;32m-> 4828\u001b[0;31m         \u001b[1;32mreturn\u001b[0m \u001b[0mself\u001b[0m\u001b[1;33m.\u001b[0m\u001b[0mwith_env\u001b[0m\u001b[1;33m(\u001b[0m\u001b[0mself\u001b[0m\u001b[1;33m.\u001b[0m\u001b[0menv\u001b[0m\u001b[1;33m(\u001b[0m\u001b[0muser\u001b[0m\u001b[1;33m=\u001b[0m\u001b[0muser\u001b[0m\u001b[1;33m)\u001b[0m\u001b[1;33m)\u001b[0m\u001b[1;33m\u001b[0m\u001b[0m\n\u001b[0m\u001b[1;32m   4829\u001b[0m \u001b[1;33m\u001b[0m\u001b[0m\n\u001b[1;32m   4830\u001b[0m     \u001b[1;32mdef\u001b[0m \u001b[0mwith_context\u001b[0m\u001b[1;33m(\u001b[0m\u001b[0mself\u001b[0m\u001b[1;33m,\u001b[0m \u001b[1;33m*\u001b[0m\u001b[0margs\u001b[0m\u001b[1;33m,\u001b[0m \u001b[1;33m**\u001b[0m\u001b[0mkwargs\u001b[0m\u001b[1;33m)\u001b[0m\u001b[1;33m:\u001b[0m\u001b[1;33m\u001b[0m\u001b[0m\n",
      "\u001b[0;32me:\\_odoo\\odoo\\odoo\\api.pyc\u001b[0m in \u001b[0;36m__call__\u001b[0;34m(self, cr, user, context)\u001b[0m\n\u001b[1;32m    779\u001b[0m         \u001b[0muid\u001b[0m \u001b[1;33m=\u001b[0m \u001b[0mself\u001b[0m\u001b[1;33m.\u001b[0m\u001b[0muid\u001b[0m \u001b[1;32mif\u001b[0m \u001b[0muser\u001b[0m \u001b[1;32mis\u001b[0m \u001b[0mNone\u001b[0m \u001b[1;32melse\u001b[0m \u001b[0mint\u001b[0m\u001b[1;33m(\u001b[0m\u001b[0muser\u001b[0m\u001b[1;33m)\u001b[0m\u001b[1;33m\u001b[0m\u001b[0m\n\u001b[1;32m    780\u001b[0m         \u001b[0mcontext\u001b[0m \u001b[1;33m=\u001b[0m \u001b[0mself\u001b[0m\u001b[1;33m.\u001b[0m\u001b[0mcontext\u001b[0m \u001b[1;32mif\u001b[0m \u001b[0mcontext\u001b[0m \u001b[1;32mis\u001b[0m \u001b[0mNone\u001b[0m \u001b[1;32melse\u001b[0m \u001b[0mcontext\u001b[0m\u001b[1;33m\u001b[0m\u001b[0m\n\u001b[0;32m--> 781\u001b[0;31m         \u001b[1;32mreturn\u001b[0m \u001b[0mEnvironment\u001b[0m\u001b[1;33m(\u001b[0m\u001b[0mcr\u001b[0m\u001b[1;33m,\u001b[0m \u001b[0muid\u001b[0m\u001b[1;33m,\u001b[0m \u001b[0mcontext\u001b[0m\u001b[1;33m)\u001b[0m\u001b[1;33m\u001b[0m\u001b[0m\n\u001b[0m\u001b[1;32m    782\u001b[0m \u001b[1;33m\u001b[0m\u001b[0m\n\u001b[1;32m    783\u001b[0m     \u001b[1;32mdef\u001b[0m \u001b[0mref\u001b[0m\u001b[1;33m(\u001b[0m\u001b[0mself\u001b[0m\u001b[1;33m,\u001b[0m \u001b[0mxml_id\u001b[0m\u001b[1;33m,\u001b[0m \u001b[0mraise_if_not_found\u001b[0m\u001b[1;33m=\u001b[0m\u001b[0mTrue\u001b[0m\u001b[1;33m)\u001b[0m\u001b[1;33m:\u001b[0m\u001b[1;33m\u001b[0m\u001b[0m\n",
      "\u001b[0;32me:\\_odoo\\odoo\\odoo\\api.pyc\u001b[0m in \u001b[0;36m__new__\u001b[0;34m(cls, cr, uid, context)\u001b[0m\n\u001b[1;32m    724\u001b[0m \u001b[1;33m\u001b[0m\u001b[0m\n\u001b[1;32m    725\u001b[0m         \u001b[1;31m# if env already exists, return it\u001b[0m\u001b[1;33m\u001b[0m\u001b[1;33m\u001b[0m\u001b[0m\n\u001b[0;32m--> 726\u001b[0;31m         \u001b[0menv\u001b[0m\u001b[1;33m,\u001b[0m \u001b[0menvs\u001b[0m \u001b[1;33m=\u001b[0m \u001b[0mNone\u001b[0m\u001b[1;33m,\u001b[0m \u001b[0mcls\u001b[0m\u001b[1;33m.\u001b[0m\u001b[0menvs\u001b[0m\u001b[1;33m\u001b[0m\u001b[0m\n\u001b[0m\u001b[1;32m    727\u001b[0m         \u001b[1;32mfor\u001b[0m \u001b[0menv\u001b[0m \u001b[1;32min\u001b[0m \u001b[0menvs\u001b[0m\u001b[1;33m:\u001b[0m\u001b[1;33m\u001b[0m\u001b[0m\n\u001b[1;32m    728\u001b[0m             \u001b[1;32mif\u001b[0m \u001b[0menv\u001b[0m\u001b[1;33m.\u001b[0m\u001b[0margs\u001b[0m \u001b[1;33m==\u001b[0m \u001b[0margs\u001b[0m\u001b[1;33m:\u001b[0m\u001b[1;33m\u001b[0m\u001b[0m\n",
      "\u001b[0;32me:\\_odoo\\odoo\\odoo\\tools\\func.pyc\u001b[0m in \u001b[0;36m__get__\u001b[0;34m(self, cls, owner)\u001b[0m\n\u001b[1;32m    109\u001b[0m \u001b[1;32mclass\u001b[0m \u001b[0m_ClassProperty\u001b[0m\u001b[1;33m(\u001b[0m\u001b[0mproperty\u001b[0m\u001b[1;33m)\u001b[0m\u001b[1;33m:\u001b[0m\u001b[1;33m\u001b[0m\u001b[0m\n\u001b[1;32m    110\u001b[0m     \u001b[1;32mdef\u001b[0m \u001b[0m__get__\u001b[0m\u001b[1;33m(\u001b[0m\u001b[0mself\u001b[0m\u001b[1;33m,\u001b[0m \u001b[0mcls\u001b[0m\u001b[1;33m,\u001b[0m \u001b[0mowner\u001b[0m\u001b[1;33m)\u001b[0m\u001b[1;33m:\u001b[0m\u001b[1;33m\u001b[0m\u001b[0m\n\u001b[0;32m--> 111\u001b[0;31m         \u001b[1;32mreturn\u001b[0m \u001b[0mself\u001b[0m\u001b[1;33m.\u001b[0m\u001b[0mfget\u001b[0m\u001b[1;33m.\u001b[0m\u001b[0m__get__\u001b[0m\u001b[1;33m(\u001b[0m\u001b[0mNone\u001b[0m\u001b[1;33m,\u001b[0m \u001b[0mowner\u001b[0m\u001b[1;33m)\u001b[0m\u001b[1;33m(\u001b[0m\u001b[1;33m)\u001b[0m\u001b[1;33m\u001b[0m\u001b[0m\n\u001b[0m\u001b[1;32m    112\u001b[0m \u001b[1;33m\u001b[0m\u001b[0m\n\u001b[1;32m    113\u001b[0m \u001b[1;32mdef\u001b[0m \u001b[0mclassproperty\u001b[0m\u001b[1;33m(\u001b[0m\u001b[0mfunc\u001b[0m\u001b[1;33m)\u001b[0m\u001b[1;33m:\u001b[0m\u001b[1;33m\u001b[0m\u001b[0m\n",
      "\u001b[0;32me:\\_odoo\\odoo\\odoo\\api.pyc\u001b[0m in \u001b[0;36menvs\u001b[0;34m(cls)\u001b[0m\n\u001b[1;32m    697\u001b[0m     \u001b[1;33m@\u001b[0m\u001b[0mclassproperty\u001b[0m\u001b[1;33m\u001b[0m\u001b[0m\n\u001b[1;32m    698\u001b[0m     \u001b[1;32mdef\u001b[0m \u001b[0menvs\u001b[0m\u001b[1;33m(\u001b[0m\u001b[0mcls\u001b[0m\u001b[1;33m)\u001b[0m\u001b[1;33m:\u001b[0m\u001b[1;33m\u001b[0m\u001b[0m\n\u001b[0;32m--> 699\u001b[0;31m         \u001b[1;32mreturn\u001b[0m \u001b[0mcls\u001b[0m\u001b[1;33m.\u001b[0m\u001b[0m_local\u001b[0m\u001b[1;33m.\u001b[0m\u001b[0menvironments\u001b[0m\u001b[1;33m\u001b[0m\u001b[0m\n\u001b[0m\u001b[1;32m    700\u001b[0m \u001b[1;33m\u001b[0m\u001b[0m\n\u001b[1;32m    701\u001b[0m     \u001b[1;33m@\u001b[0m\u001b[0mclassmethod\u001b[0m\u001b[1;33m\u001b[0m\u001b[0m\n",
      "\u001b[0;32mc:\\python27\\lib\\site-packages\\werkzeug\\local.pyc\u001b[0m in \u001b[0;36m__getattr__\u001b[0;34m(self, name)\u001b[0m\n\u001b[1;32m     69\u001b[0m             \u001b[1;32mreturn\u001b[0m \u001b[0mself\u001b[0m\u001b[1;33m.\u001b[0m\u001b[0m__storage__\u001b[0m\u001b[1;33m[\u001b[0m\u001b[0mself\u001b[0m\u001b[1;33m.\u001b[0m\u001b[0m__ident_func__\u001b[0m\u001b[1;33m(\u001b[0m\u001b[1;33m)\u001b[0m\u001b[1;33m]\u001b[0m\u001b[1;33m[\u001b[0m\u001b[0mname\u001b[0m\u001b[1;33m]\u001b[0m\u001b[1;33m\u001b[0m\u001b[0m\n\u001b[1;32m     70\u001b[0m         \u001b[1;32mexcept\u001b[0m \u001b[0mKeyError\u001b[0m\u001b[1;33m:\u001b[0m\u001b[1;33m\u001b[0m\u001b[0m\n\u001b[0;32m---> 71\u001b[0;31m             \u001b[1;32mraise\u001b[0m \u001b[0mAttributeError\u001b[0m\u001b[1;33m(\u001b[0m\u001b[0mname\u001b[0m\u001b[1;33m)\u001b[0m\u001b[1;33m\u001b[0m\u001b[0m\n\u001b[0m\u001b[1;32m     72\u001b[0m \u001b[1;33m\u001b[0m\u001b[0m\n\u001b[1;32m     73\u001b[0m     \u001b[1;32mdef\u001b[0m \u001b[0m__setattr__\u001b[0m\u001b[1;33m(\u001b[0m\u001b[0mself\u001b[0m\u001b[1;33m,\u001b[0m \u001b[0mname\u001b[0m\u001b[1;33m,\u001b[0m \u001b[0mvalue\u001b[0m\u001b[1;33m)\u001b[0m\u001b[1;33m:\u001b[0m\u001b[1;33m\u001b[0m\u001b[0m\n",
      "\u001b[0;31mAttributeError\u001b[0m: environments"
     ]
    }
   ],
   "source": [
    "user1= env['res.users'].search(  [] )"
   ]
  }
 ],
 "metadata": {
  "kernelspec": {
   "display_name": "Python 2",
   "language": "python",
   "name": "python2"
  },
  "language_info": {
   "codemirror_mode": {
    "name": "ipython",
    "version": 2
   },
   "file_extension": ".py",
   "mimetype": "text/x-python",
   "name": "python",
   "nbconvert_exporter": "python",
   "pygments_lexer": "ipython2",
   "version": "2.7.12"
  }
 },
 "nbformat": 4,
 "nbformat_minor": 0
}
